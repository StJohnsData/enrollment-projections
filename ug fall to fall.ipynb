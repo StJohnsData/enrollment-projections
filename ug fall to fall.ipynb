{
 "cells": [
  {
   "cell_type": "code",
   "execution_count": 91,
   "metadata": {},
   "outputs": [],
   "source": [
    "import sqlalchemy as sa\n",
    "import pandas as pd\n",
    "import pyarrow as pa\n",
    "import credentials_db as creds"
   ]
  },
  {
   "cell_type": "code",
   "execution_count": 3,
   "metadata": {},
   "outputs": [],
   "source": [
    "pd.options.mode.copy_on_write = True"
   ]
  },
  {
   "cell_type": "code",
   "execution_count": 4,
   "metadata": {},
   "outputs": [],
   "source": [
    "engine_sda = sa.create_engine('oracle+cx_oracle://'+creds.sda['usr']+':'+creds.sda['pwd']+creds.sda['host']+'/'+creds.sda['db'])"
   ]
  },
  {
   "cell_type": "code",
   "execution_count": 54,
   "metadata": {},
   "outputs": [],
   "source": [
    "sql_enrolllment_data_fall_variable = open('./sql/enrollment data fall census.sql','r').read()"
   ]
  },
  {
   "cell_type": "code",
   "execution_count": 56,
   "metadata": {},
   "outputs": [],
   "source": [
    "queries = []\n",
    "for i in range (19,25):\n",
    "    queries.append(sql_enrolllment_data_fall_variable.replace('__yr__',str(i)))\n",
    "sql_enrolllment_data_fall = '\\nunion\\n'.join(queries)"
   ]
  },
  {
   "cell_type": "code",
   "execution_count": 57,
   "metadata": {},
   "outputs": [],
   "source": [
    "enrollment = pd.read_sql(sql_enrolllment_data_fall,engine_sda,dtype={\n",
    "        'sytdean_pidm':'uint32[pyarrow]',\n",
    "        'sytdean_term_code_key':'category',\n",
    "        'sytdean_registered_ind':'category',\n",
    "        'sytdean_camp_code':'category',\n",
    "        'sytdean_levl_code':'category',\n",
    "        'sytdean_coll_code_1':'category',\n",
    "        'sytdean_majr_code_1':'category',\n",
    "        'sytdean_styp_code':'category',\n",
    "        'sytdean_class_code':'category'\n",
    "    })\n",
    "    "
   ]
  }
 ],
 "metadata": {
  "kernelspec": {
   "display_name": "base",
   "language": "python",
   "name": "python3"
  },
  "language_info": {
   "codemirror_mode": {
    "name": "ipython",
    "version": 3
   },
   "file_extension": ".py",
   "mimetype": "text/x-python",
   "name": "python",
   "nbconvert_exporter": "python",
   "pygments_lexer": "ipython3",
   "version": "3.9.20"
  }
 },
 "nbformat": 4,
 "nbformat_minor": 2
}
